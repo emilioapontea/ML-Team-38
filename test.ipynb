{
 "cells": [
  {
   "cell_type": "code",
   "execution_count": 7,
   "metadata": {},
   "outputs": [],
   "source": [
    "from utils import *\n",
    "from preprocessing import *\n",
    "import pandas as pd\n",
    "import numpy as np\n",
    "import torch\n",
    "import torchvision.transforms as transforms\n",
    "import torchvision\n",
    "from torch.utils.data import TensorDataset, DataLoader, Subset\n",
    "from torchvision.datasets import ImageFolder\n",
    "from skimage import feature\n",
    "from sklearn.model_selection import train_test_split\n",
    "import matplotlib.pyplot as plt\n",
    "from PIL import Image\n",
    "\n"
   ]
  },
  {
   "cell_type": "code",
   "execution_count": 31,
   "metadata": {},
   "outputs": [],
   "source": [
    "transform = transforms.Compose(\n",
    "            [\n",
    "                transforms.Resize((224, 224)),\n",
    "                transforms.ToTensor(),\n",
    "                transforms.Normalize(\n",
    "                    mean=[0.485, 0.456, 0.406], std=[0.229, 0.224, 0.225]\n",
    "                ),\n",
    "            ]\n",
    "        )\n",
    "\n",
    "\n",
    "\n",
    "num_classes = 10\n",
    "dataset = ImageFolder(root=\"./split_dataset/train\", transform=transform)\n",
    "\n",
    "# Create a subset of first 100 images\n",
    "indices = list(range(500))\n",
    "subset = Subset(dataset, indices)\n",
    "\n",
    "dataloader = DataLoader(subset, batch_size=64, shuffle=True)\n"
   ]
  },
  {
   "cell_type": "code",
   "execution_count": 32,
   "metadata": {},
   "outputs": [],
   "source": [
    "model = torchvision.models.resnet18(pretrained=True)\n",
    "# model = torchvision.models.resnet50(pretrained=True) # RESNET50\n",
    "# model = torchvision.models.vgg16(pretrained=True) #VGG16\n",
    "# model =  torchvision.models.inception_v3(pretrained=True) # INCEPTION V3\n",
    "in_features = model.fc.in_features\n",
    "model.fc = torch.nn.Linear(in_features, num_classes)\n",
    "criterion = torch.nn.CrossEntropyLoss()\n",
    "optimizer = torch.optim.Adam(model.parameters(), lr=0.001)"
   ]
  },
  {
   "cell_type": "code",
   "execution_count": 33,
   "metadata": {},
   "outputs": [],
   "source": [
    "numEpochs = 3\n",
    "\n",
    "def trainModel():\n",
    "    device = torch.device(\"cuda:0\" if torch.cuda.is_available() else \"cpu\")\n",
    "    for epoch in range(numEpochs):\n",
    "        for images, labels in dataloader:\n",
    "            images.to(device)\n",
    "            optimizer.zero_grad()\n",
    "            outputs = model(images)\n",
    "            loss = criterion(outputs, labels)\n",
    "            loss.backward()\n",
    "            optimizer.step()\n",
    "        print(f\"Epoch [{epoch+1}/{numEpochs}], Loss: {loss.item():.4f}\")"
   ]
  },
  {
   "cell_type": "code",
   "execution_count": 34,
   "metadata": {},
   "outputs": [
    {
     "name": "stdout",
     "output_type": "stream",
     "text": [
      "Epoch [1/3], Loss: 0.8897\n",
      "Epoch [2/3], Loss: 0.7771\n",
      "Epoch [3/3], Loss: 0.3903\n"
     ]
    }
   ],
   "source": [
    "trainModel()"
   ]
  },
  {
   "cell_type": "code",
   "execution_count": 35,
   "metadata": {},
   "outputs": [
    {
     "name": "stderr",
     "output_type": "stream",
     "text": [
      "Clipping input data to the valid range for imshow with RGB data ([0..1] for floats or [0..255] for integers).\n"
     ]
    },
    {
     "name": "stdout",
     "output_type": "stream",
     "text": [
      "Predicted:  2 3 0 0\n",
      "GroundTruth:  0 0 0 0\n"
     ]
    },
    {
     "data": {
      "image/png": "[encoded data removed]",
      "text/plain": [
       "<Figure size 432x288 with 1 Axes>"
      ]
     },
     "metadata": {
      "needs_background": "light"
     },
     "output_type": "display_data"
    }
   ],
   "source": [
    "testset = ImageFolder(root=\"./split_dataset/train\", transform=transform)\n",
    "\n",
    "testloader = torch.utils.data.DataLoader(testset, batch_size=10,\n",
    "                                         shuffle=False)\n",
    "\n",
    "dataiter = iter(testloader)\n",
    "images, labels = dataiter.__next__()\n",
    "\n",
    "\n",
    "classes = ('0', '1', '2', '3',\n",
    "           '4', '5', '6', '7', '8', '9')\n",
    "\n",
    "outputs = model(images)\n",
    "\n",
    "_, predicted = torch.max(outputs, 1)\n",
    "\n",
    "print('Predicted: ', ' '.join('%s' % classes[predicted[j]]\n",
    "                              for j in range(4)))\n",
    "# print images\n",
    "plt.imshow(torchvision.utils.make_grid(images).permute(1, 2, 0))\n",
    "print('GroundTruth: ', ' '.join('%s' % classes[labels[j]] for j in range(4)))"
   ]
  },
  {
   "cell_type": "code",
   "execution_count": 37,
   "metadata": {},
   "outputs": [
    {
     "name": "stdout",
     "output_type": "stream",
     "text": [
      "Accuracy of the network on the test images: 21 %\n"
     ]
    }
   ],
   "source": [
    "correct = 0\n",
    "total = 0\n",
    "with torch.no_grad():\n",
    "    for data in testloader:\n",
    "        images, labels = data\n",
    "        outputs = model(images)\n",
    "        _, predicted = torch.max(outputs.data, 1)\n",
    "        total += labels.size(0)\n",
    "        correct += (predicted == labels).sum().item()\n",
    "\n",
    "print('Accuracy of the network on the test images: %d %%' % (\n",
    "    100 * correct / total))"
   ]
  },
  {
   "cell_type": "code",
   "execution_count": 86,
   "metadata": {},
   "outputs": [],
   "source": [
    "import os\n",
    "import numpy as np\n",
    "from typing import Tuple\n",
    "\n",
    "# Assuming 'load_imagepaths_with_labels' loads image paths and corresponding labels\n",
    "# and 'open_image' opens the image from a given path\n",
    "\n",
    "def split_images(src_folder: str, dst_folder: str, p: float = 0.2) -> Tuple[int, int]:\n",
    "    img_paths = load_imagepaths_with_labels(src_folder)  # This should return a list of tuples\n",
    "    val_count = 0\n",
    "    train_count = 0\n",
    "    for (path, label) in img_paths:\n",
    "        r = np.random.uniform()\n",
    "        img = open_image(path)\n",
    "        # Choose the directory based on the random number\n",
    "        subdir = \"val\" if r < p else \"train\"\n",
    "        # Use the label as the directory name\n",
    "        label_dir = os.path.join(dst_folder, subdir, str(label))\n",
    "        os.makedirs(label_dir, exist_ok=True)  # Create the directory if it doesn't exist\n",
    "        # Extract the filename from the path\n",
    "        filename = os.path.basename(path)\n",
    "        # Save the image in the directory named after the label\n",
    "        img.save(os.path.join(label_dir, filename))\n",
    "        # Increment the appropriate counter\n",
    "        if subdir == \"val\":\n",
    "            val_count += 1\n",
    "        else:\n",
    "            train_count += 1\n",
    "    return val_count, train_count"
   ]
  },
  {
   "cell_type": "code",
   "execution_count": 88,
   "metadata": {},
   "outputs": [
    {
     "name": "stderr",
     "output_type": "stream",
     "text": [
      "/Users/tawsifkamal/opt/anaconda3/lib/python3.8/site-packages/torchvision/models/_utils.py:208: UserWarning: The parameter 'pretrained' is deprecated since 0.13 and may be removed in the future, please use 'weights' instead.\n",
      "  warnings.warn(\n",
      "/Users/tawsifkamal/opt/anaconda3/lib/python3.8/site-packages/torchvision/models/_utils.py:223: UserWarning: Arguments other than a weight enum or `None` for 'weights' are deprecated since 0.13 and may be removed in the future. The current behavior is equivalent to passing `weights=ResNet18_Weights.IMAGENET1K_V1`. You can also use `weights=ResNet18_Weights.DEFAULT` to get the most up-to-date weights.\n",
      "  warnings.warn(msg)\n"
     ]
    }
   ],
   "source": [
    "import torch\n",
    "import torch.nn as nn\n",
    "import torch.nn.functional as F\n",
    "\n",
    "import os\n",
    "import torch\n",
    "import torch.nn as nn\n",
    "import torch.optim as optim\n",
    "import torchvision\n",
    "import torchvision.transforms as transforms\n",
    "from torchvision.datasets import ImageFolder\n",
    "from torch.utils.data import DataLoader\n",
    "\n",
    "\n",
    "class CustomModel(nn.Module):\n",
    "    def __init__(\n",
    "        self,\n",
    "        root_path,\n",
    "        num_classes=2,\n",
    "        batch_size=32,\n",
    "        num_epochs=10,\n",
    "        learning_rate=0.001,\n",
    "    ):\n",
    "        super(CustomModel, self).__init__()\n",
    "        self.root_path = root_path\n",
    "        self.num_classes = num_classes\n",
    "        self.batch_size = batch_size\n",
    "        self.num_epochs = num_epochs\n",
    "        self.learning_rate = learning_rate\n",
    "\n",
    "        self.transform = transforms.Compose(\n",
    "            [\n",
    "                transforms.Resize((224, 224)),\n",
    "                transforms.ToTensor(),\n",
    "                transforms.Normalize(\n",
    "                    mean=[0.485, 0.456, 0.406], std=[0.229, 0.224, 0.225]\n",
    "                ),\n",
    "            ]\n",
    "        )\n",
    "\n",
    "        self.dataset = ImageFolder(root=self.root_path, transform=self.transform)\n",
    "        self.dataloader = DataLoader(\n",
    "            self.dataset, batch_size=self.batch_size, shuffle=True\n",
    "        )\n",
    "\n",
    "        self.model = torchvision.models.resnet18(pretrained=True)\n",
    "        in_features = self.model.fc.in_features\n",
    "        self.model.fc = nn.Linear(in_features, self.num_classes)\n",
    "\n",
    "        self.criterion = nn.CrossEntropyLoss()\n",
    "        self.optimizer = optim.Adam(self.model.parameters(), lr=self.learning_rate)\n",
    "\n",
    "    def trainModel(self):\n",
    "        device = torch.device(\"cuda:0\" if torch.cuda.is_available() else \"cpu\")\n",
    "        for epoch in range(self.num_epochs):\n",
    "            for images, labels in self.dataloader:\n",
    "                images.to(device)\n",
    "                self.optimizer.zero_grad()\n",
    "                outputs = self.model(images)\n",
    "                loss = self.criterion(outputs, labels)\n",
    "                loss.backward()\n",
    "                self.optimizer.step()\n",
    "            print(f\"Epoch [{epoch+1}/{self.num_epochs}], Loss: {loss.item():.4f}\")\n",
    "\n",
    "    def saveModel(self, save_path):\n",
    "        torch.save(self.model.state_dict(), save_path)\n",
    "\n",
    "\n",
    "if __name__ == \"__main__\":\n",
    "    model = CustomModel(\n",
    "        root_path=\"./split_dataset/train\", num_classes=10, batch_size=512, num_epochs=1\n",
    "    )\n",
    "    model.trainModel()\n",
    "    model.saveModel(\"model.pth\")"
   ]
  },
  {
   "cell_type": "markdown",
   "metadata": {},
   "source": [
    "torch.__version__"
   ]
  }
 ],
 "metadata": {
  "kernelspec": {
   "display_name": "base",
   "language": "python",
   "name": "python3"
  },
  "language_info": {
   "codemirror_mode": {
    "name": "ipython",
    "version": 3
   },
   "file_extension": ".py",
   "mimetype": "text/x-python",
   "name": "python",
   "nbconvert_exporter": "python",
   "pygments_lexer": "ipython3",
   "version": "3.8.8"
  }
 },
 "nbformat": 4,
 "nbformat_minor": 2
}
