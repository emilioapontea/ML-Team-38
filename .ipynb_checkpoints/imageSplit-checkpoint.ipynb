{
 "cells": [
  {
   "cell_type": "code",
   "execution_count": 11,
   "id": "b3796003-9e74-4ac2-bd91-4aace98e994c",
   "metadata": {},
   "outputs": [],
   "source": [
    "import os\n",
    "from utils import *\n",
    "from preprocessing import *\n",
    "from typing import Tuple\n",
    "\n",
    "for root, dirs, files in os.walk(\"./\"):\n",
    "      for file in files:\n",
    "        if file.endswith(\".DS_Store\"):\n",
    "          os.remove(os.path.join(root, file))\n",
    "\n",
    "# Assuming 'load_imagepaths_with_labels' loads image paths and corresponding labels\n",
    "# and 'open_image' opens the image from a given path\n",
    "# def split_images(src_folder: str, dst_folder: str, p_val: float = 0.2, p_test = 0.1) -> Tuple[int, int]:\n",
    "#     img_paths = load_imagepaths_with_labels(src_folder)  # This should return a list of tuples\n",
    "#     test_count = 0\n",
    "#     val_count = 0\n",
    "#     train_count = 0\n",
    "#     for (path, label) in img_paths:\n",
    "#             r = np.random.uniform()\n",
    "#             try: \n",
    "#                 img = open_image(path)\n",
    "#                 # Choose the directory based on the random number\n",
    "#                 if r < p_test:\n",
    "#                     subdir = \"test\"\n",
    "#                     test_count += 1\n",
    "#                 elif r < p_test + p_val:\n",
    "#                     subdir = \"val\"\n",
    "#                     val_count += 1\n",
    "#                 else:\n",
    "#                     subdir = \"train\"\n",
    "#                     train_count += 1\n",
    "#                 # Use the label as the directory name\n",
    "#                 label_dir = os.path.join(dst_folder, subdir, str(label))\n",
    "#                 os.makedirs(label_dir, exist_ok=True)  # Create the directory if it doesn't exist\n",
    "#                 # Extract the filename from the path\n",
    "#                 filename = os.path.basename(path)\n",
    "#                 # Save the image in the directory named after the label\n",
    "#                 img.save(os.path.join(label_dir, filename))\n",
    "#             except:\n",
    "#                 print(f\"The following image might cause problems: {path}\")\n",
    "\n",
    "#     return test_count, val_count, train_count\n",
    "\n",
    "\n",
    "# split_images(\"./dataset\", \"./split_dataset\")"
   ]
  },
  {
   "cell_type": "code",
   "execution_count": null,
   "id": "ef493a62-7b0d-4343-b34e-16963e3ee870",
   "metadata": {},
   "outputs": [],
   "source": []
  }
 ],
 "metadata": {
  "kernelspec": {
   "display_name": "Python 3 (ipykernel)",
   "language": "python",
   "name": "python3"
  },
  "language_info": {
   "codemirror_mode": {
    "name": "ipython",
    "version": 3
   },
   "file_extension": ".py",
   "mimetype": "text/x-python",
   "name": "python",
   "nbconvert_exporter": "python",
   "pygments_lexer": "ipython3",
   "version": "3.9.18"
  }
 },
 "nbformat": 4,
 "nbformat_minor": 5
}
